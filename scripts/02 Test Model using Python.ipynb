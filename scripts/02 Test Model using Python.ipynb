{
 "cells": [
  {
   "cell_type": "markdown",
   "id": "2d0c56f3",
   "metadata": {},
   "source": [
    "# Test ONNX Model with Label Matching\n",
    "This notebook tests the ONNX model by matching a sample text to predefined labels using cosine similarity."
   ]
  },
  {
   "cell_type": "code",
   "execution_count": 23,
   "id": "09b4a954",
   "metadata": {},
   "outputs": [
    {
     "name": "stdout",
     "output_type": "stream",
     "text": [
      "Sample text: \"I need to buy chicken and rolls for dinner.\"\n",
      "Matched label: Shopping\n"
     ]
    }
   ],
   "source": [
    "# Import required libraries\n",
    "from transformers import AutoTokenizer\n",
    "from onnxruntime import InferenceSession\n",
    "import numpy as np\n",
    "\n",
    "# Define paths to the model and tokenizer\n",
    "onnx_model_path = '../artifacts/model/model.onnx'\n",
    "tokenizer_dir = '../artifacts/model'\n",
    "\n",
    "# Define labels and text\n",
    "labels = ['Shopping', 'Exercise', 'Hobbies']\n",
    "text = 'I need to buy chicken and rolls for dinner.'\n",
    "\n",
    "# Load ONNX model and tokenizer\n",
    "session = InferenceSession(onnx_model_path)\n",
    "tokenizer = AutoTokenizer.from_pretrained(tokenizer_dir)\n",
    "\n",
    "# Helper function to tokenize text\n",
    "def tokenize(to_tokenize):\n",
    "    tokens = tokenizer(to_tokenize, return_tensors='np', padding=True, truncation=True)\n",
    "    return {k: v for k, v in tokens.items() if k in [input.name for input in session.get_inputs()]}\n",
    "\n",
    "# Tokenize text and get embeddings\n",
    "text_tokens = tokenize(text)\n",
    "text_embedding = session.run(None, text_tokens)[0].mean(axis=1)\n",
    "\n",
    "# Tokenize labels and get embeddings\n",
    "label_tokens = [tokenize(label) for label in labels]\n",
    "label_embeddings = [session.run(None, token) for token in label_tokens]\n",
    "\n",
    "# Compute cosine similarity between text and labels\n",
    "def cosine_similarity(a, b):\n",
    "    return np.dot(a, b) / (np.linalg.norm(a) * np.linalg.norm(b))\n",
    "\n",
    "similarities = [cosine_similarity(text_embedding[0], label[0].mean(axis=1)[0]) for label in label_embeddings]\n",
    "\n",
    "# Find the best matching label\n",
    "best_label = labels[np.argmax(similarities)]\n",
    "print(f'Sample text: \"{text}\"')\n",
    "print(f'Matched label: {best_label}')"
   ]
  }
 ],
 "metadata": {
  "kernelspec": {
   "display_name": "Python 3",
   "language": "python",
   "name": "python3"
  },
  "language_info": {
   "codemirror_mode": {
    "name": "ipython",
    "version": 3
   },
   "file_extension": ".py",
   "mimetype": "text/x-python",
   "name": "python",
   "nbconvert_exporter": "python",
   "pygments_lexer": "ipython3",
   "version": "3.12.10"
  }
 },
 "nbformat": 4,
 "nbformat_minor": 5
}
