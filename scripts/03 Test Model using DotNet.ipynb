{
 "cells": [
  {
   "cell_type": "markdown",
   "id": "d2d4fcfb",
   "metadata": {},
   "source": [
    "# Test ONNX Model with Label Matching in C#\n",
    "This notebook demonstrates how to load a pre-downloaded ONNX model and tokenizer, and match a sample text to predefined labels using cosine similarity."
   ]
  },
  {
   "cell_type": "code",
   "execution_count": 3,
   "id": "10e32458",
   "metadata": {
    "polyglot_notebook": {
     "kernelName": "csharp"
    },
    "vscode": {
     "languageId": "polyglot-notebook"
    }
   },
   "outputs": [
    {
     "data": {
      "text/html": [
       "<div><div></div><div></div><div><strong>Installed Packages</strong><ul><li><span>Microsoft.ML.OnnxRuntime, 1.21.0</span></li><li><span>Microsoft.ML.Tokenizers, 1.0.2</span></li></ul></div></div>"
      ]
     },
     "metadata": {},
     "output_type": "display_data"
    }
   ],
   "source": [
    "// Reference the required NuGet package\n",
    "#r \"nuget: Microsoft.ML.OnnxRuntime, 1.21.0\"\n",
    "#r \"nuget: Microsoft.ML.Tokenizers, 1.0.2\""
   ]
  },
  {
   "cell_type": "code",
   "execution_count": 5,
   "metadata": {
    "polyglot_notebook": {
     "kernelName": "csharp"
    },
    "vscode": {
     "languageId": "polyglot-notebook"
    }
   },
   "outputs": [],
   "source": [
    "// Import required namespaces\n",
    "using System;\n",
    "using System.IO;\n",
    "using System.Linq;\n",
    "using Microsoft.ML.OnnxRuntime;\n",
    "using Microsoft.ML.OnnxRuntime.Tensors;\n",
    "using Microsoft.ML.Tokenizers;\n",
    "\n",
    "// Define paths to the model and tokenizer\n",
    "var modelPath = \"../artifacts/model/model.onnx\";\n",
    "var vocabPath = \"../artifacts/model/vocab.txt\";\n",
    "\n",
    "// Define labels and text\n",
    "var labels = new string[] { \"Shopping\", \"Exercise\", \"Hobbies\" };\n",
    "var text = \"I need to buy chicken and rolls for dinner.\";\n",
    "\n",
    "// Load ONNX model and tokenizer\n",
    "var session = new InferenceSession(modelPath);\n",
    "var tokenizer = BertTokenizer.Create(vocabPath);\n",
    "\n",
    "// Helper function to tokenize text\n",
    "IReadOnlyCollection<NamedOnnxValue> Tokenize(string toTokenize)\n",
    "{\n",
    "    var inputIds = tokenizer.EncodeToIds(toTokenize);\n",
    "    var inputIdsTensor = new DenseTensor<long>(inputIds.Select(i => (long)i).ToArray(), new[] { 1, inputIds.Count });\n",
    "\n",
    "    var typeIds = tokenizer.CreateTokenTypeIdsFromSequences(inputIds);\n",
    "    var typeIdsTensor = new DenseTensor<long>(typeIds.Take(inputIds.Count).Select(i => (long)i).ToArray(), new[] { 1, inputIds.Count });\n",
    "\n",
    "    var attentionMask = inputIds.Select(id => id == 0 ? 0L : 1L).ToArray();\n",
    "    var attentionMaskTensor = new DenseTensor<long>(attentionMask, new[] { 1, inputIds.Count });\n",
    "\n",
    "    return [\n",
    "        NamedOnnxValue.CreateFromTensor(\"input_ids\", inputIdsTensor),\n",
    "        NamedOnnxValue.CreateFromTensor(\"token_type_ids\", typeIdsTensor),\n",
    "        NamedOnnxValue.CreateFromTensor(\"attention_mask\", attentionMaskTensor)\n",
    "    ];\n",
    "}\n",
    "\n",
    "// Tokenize text and get embeddings\n",
    "var textTokens = Tokenize(text);\n",
    "var textEmbedding = session.Run(textTokens)[0].AsTensor<float>();\n",
    "\n",
    "// Tokenize labels and get embeddings\n",
    "var labelTokens = labels.Select(Tokenize).ToArray();\n",
    "var labelEmbeddings = labelTokens.Select(token => session.Run(token)[0].AsTensor<float>()).ToArray();\n",
    "\n",
    "// Compute cosine similarity\n",
    "float CosineSimilarity(Tensor<float> a, Tensor<float> b)\n",
    "{\n",
    "    var dotProduct = a.Zip(b, (x, y) => x * y).Sum();\n",
    "    var magnitudeA = (float)MathF.Sqrt(a.Sum(x => x * x));\n",
    "    var magnitudeB = (float)MathF.Sqrt(b.Sum(x => x * x));\n",
    "    return dotProduct / (magnitudeA * magnitudeB);\n",
    "}\n",
    "\n",
    "// Compute cosine similarity\n",
    "var similarities = labelEmbeddings.Select(labelEmbedding => CosineSimilarity(textEmbedding, labelEmbedding)).ToArray();\n",
    "\n",
    "// Find the best matching label\n",
    "var bestLabelIndex = Array.IndexOf(similarities, similarities.Max());\n",
    "var bestLabel = labels[bestLabelIndex];\n",
    "Console.WriteLine($\"Sample text: \\\"{text}\\\"\");\n",
    "Console.WriteLine($\"Matched label: {bestLabel}\");"
   ]
  }
 ],
 "metadata": {
  "kernelspec": {
   "display_name": ".NET (C#)",
   "language": "C#",
   "name": ".net-csharp"
  },
  "language_info": {
   "name": "python"
  },
  "polyglot_notebook": {
   "kernelInfo": {
    "defaultKernelName": "csharp",
    "items": [
     {
      "aliases": [],
      "name": "csharp"
     }
    ]
   }
  }
 },
 "nbformat": 4,
 "nbformat_minor": 5
}
