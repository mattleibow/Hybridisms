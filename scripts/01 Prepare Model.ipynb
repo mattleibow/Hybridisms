{
 "cells": [
  {
   "cell_type": "code",
   "execution_count": 1,
   "id": "ab87ad9f",
   "metadata": {},
   "outputs": [],
   "source": [
    "# Install required libraries\n",
    "#%pip install transformers onnxruntime\n",
    "#%pip install ipywidgets"
   ]
  },
  {
   "cell_type": "markdown",
   "id": "64b5953d",
   "metadata": {},
   "source": [
    "# Download and Prepare ONNX Model\n",
    "This script downloads the 'sentence-transformers/all-MiniLM-L6-v2' ONNX model and prepares it for embedding into a .NET MAUI app."
   ]
  },
  {
   "cell_type": "code",
   "execution_count": 2,
   "id": "c4f7a130",
   "metadata": {},
   "outputs": [
    {
     "name": "stderr",
     "output_type": "stream",
     "text": [
      "None of PyTorch, TensorFlow >= 2.0, or Flax have been found. Models won't be available and only tokenizers, configuration and file/data utilities can be used.\n"
     ]
    }
   ],
   "source": [
    "# Import required libraries\n",
    "import os\n",
    "from transformers import AutoTokenizer\n",
    "from onnxruntime import InferenceSession\n",
    "import requests\n",
    "import shutil"
   ]
  },
  {
   "cell_type": "code",
   "execution_count": 3,
   "id": "48e5fff1",
   "metadata": {},
   "outputs": [],
   "source": [
    "# Define model and tokenizer paths\n",
    "model_name = 'sentence-transformers/all-MiniLM-L6-v2'\n",
    "onnx_model_url = f'https://huggingface.co/{model_name}/resolve/main/onnx/model.onnx'\n",
    "output_dir = '../artifacts/model'"
   ]
  },
  {
   "cell_type": "code",
   "execution_count": 4,
   "id": "1c03d8ff",
   "metadata": {},
   "outputs": [],
   "source": [
    "# Create output directories if they don't exist\n",
    "os.makedirs(output_dir, exist_ok=True)"
   ]
  },
  {
   "cell_type": "code",
   "execution_count": 5,
   "id": "ba922fce",
   "metadata": {},
   "outputs": [],
   "source": [
    "# Download ONNX model\n",
    "onnx_model_path = os.path.join(output_dir, 'model.onnx')\n",
    "if not os.path.exists(onnx_model_path):\n",
    "    print(f'Downloading ONNX model from {onnx_model_url}...')\n",
    "    with requests.get(onnx_model_url, stream=True) as response:\n",
    "        with open(onnx_model_path, 'wb') as file:\n",
    "            shutil.copyfileobj(response.raw, file)\n",
    "    print('ONNX model downloaded successfully.')"
   ]
  },
  {
   "cell_type": "code",
   "execution_count": 6,
   "id": "be40936a",
   "metadata": {},
   "outputs": [],
   "source": [
    "# Save tokenizer\n",
    "tokenizer_path = os.path.join(output_dir, 'tokenizer.json')\n",
    "if not os.path.exists(tokenizer_path):\n",
    "    print('Downloading and saving tokenizer...')\n",
    "    tokenizer = AutoTokenizer.from_pretrained(model_name)\n",
    "    tokenizer.save_pretrained(output_dir)\n",
    "    print('Tokenizer saved successfully.')"
   ]
  },
  {
   "cell_type": "code",
   "execution_count": 7,
   "id": "cece6a12",
   "metadata": {},
   "outputs": [
    {
     "name": "stdout",
     "output_type": "stream",
     "text": [
      "Testing ONNX model...\n",
      "ONNX model loaded successfully.\n"
     ]
    }
   ],
   "source": [
    "# Test the ONNX model by loading it\n",
    "print('Testing ONNX model...')\n",
    "session = InferenceSession(onnx_model_path)\n",
    "print('ONNX model loaded successfully.')"
   ]
  }
 ],
 "metadata": {
  "kernelspec": {
   "display_name": "Python 3",
   "language": "python",
   "name": "python3"
  },
  "language_info": {
   "codemirror_mode": {
    "name": "ipython",
    "version": 3
   },
   "file_extension": ".py",
   "mimetype": "text/x-python",
   "name": "python",
   "nbconvert_exporter": "python",
   "pygments_lexer": "ipython3",
   "version": "3.12.10"
  }
 },
 "nbformat": 4,
 "nbformat_minor": 5
}
